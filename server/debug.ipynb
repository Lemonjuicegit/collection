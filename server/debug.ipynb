{
 "cells": [
  {
   "cell_type": "code",
   "execution_count": 1,
   "metadata": {},
   "outputs": [],
   "source": [
    "from package.database.business.service import *"
   ]
  },
  {
   "cell_type": "code",
   "execution_count": 2,
   "metadata": {},
   "outputs": [],
   "source": [
    "contractRes = businessContractService.select_all()"
   ]
  },
  {
   "cell_type": "code",
   "execution_count": 3,
   "metadata": {},
   "outputs": [],
   "source": [
    "DictionaryRes = systemDictionaryService.select({\"parent_id\": 250})"
   ]
  },
  {
   "cell_type": "code",
   "execution_count": 5,
   "metadata": {},
   "outputs": [],
   "source": [
    "customerRes = businessCustomerService.select_all()"
   ]
  },
  {
   "cell_type": "code",
   "execution_count": 6,
   "metadata": {},
   "outputs": [],
   "source": [
    "cus_name = [v.name for v in customerRes]\n",
    "not_cus = []\n",
    "for Dic in DictionaryRes:\n",
    "    if Dic.label not in cus_name:\n",
    "        not_cus.append(Dic)"
   ]
  },
  {
   "cell_type": "code",
   "execution_count": 9,
   "metadata": {},
   "outputs": [
    {
     "data": {
      "text/plain": [
       "[SystemDictionaryDO(label='重庆颐达鑫科技有限公司', parent_id=250, id=252, css_class=None, project_analyse=0, creator='1', create_time=datetime.datetime(2023, 5, 5, 10, 47, 7, 225000), deleted=0, cost_type=None, sort=4, remark=None, color_type=None, dept_analyse=0, status=0, updater='10', update_time=datetime.datetime(2023, 8, 24, 15, 40, 44, 917000), value='111'),\n",
       " SystemDictionaryDO(label='重庆中航勘测规划设计有限公司', parent_id=250, id=361, css_class=None, project_analyse=0, creator='1', create_time=datetime.datetime(2023, 5, 19, 17, 31, 37, 316000), deleted=0, cost_type=None, sort=9, remark=None, color_type=None, dept_analyse=0, status=0, updater='10', update_time=datetime.datetime(2023, 8, 24, 15, 46, 32, 93000), value='9'),\n",
       " SystemDictionaryDO(label='重庆浩正大地测绘有限公司', parent_id=250, id=358, css_class=None, project_analyse=0, creator='1', create_time=datetime.datetime(2023, 5, 19, 17, 30, 45, 912000), deleted=0, cost_type=None, sort=6, remark=None, color_type=None, dept_analyse=0, status=0, updater='10', update_time=datetime.datetime(2023, 8, 24, 15, 42, 41, 204000), value='1'),\n",
       " SystemDictionaryDO(label='天津市勘察设计院集团有限公司', parent_id=250, id=563, css_class=None, project_analyse=0, creator='10', create_time=datetime.datetime(2023, 8, 7, 16, 12, 13, 372000), deleted=0, cost_type=None, sort=16, remark=None, color_type=None, dept_analyse=0, status=0, updater='10', update_time=datetime.datetime(2023, 8, 7, 16, 12, 13, 372000), value='111'),\n",
       " SystemDictionaryDO(label='重庆中检工程质量检测有限公司', parent_id=250, id=564, css_class=None, project_analyse=0, creator='10', create_time=datetime.datetime(2023, 8, 7, 16, 12, 26, 908000), deleted=0, cost_type=None, sort=17, remark=None, color_type=None, dept_analyse=0, status=0, updater='10', update_time=datetime.datetime(2023, 8, 7, 16, 12, 26, 908000), value='111'),\n",
       " SystemDictionaryDO(label='鑫辉智云集团有限公司', parent_id=250, id=575, css_class=None, project_analyse=0, creator='47', create_time=datetime.datetime(2023, 8, 21, 14, 11, 36, 966000), deleted=0, cost_type=None, sort=18, remark=None, color_type=None, dept_analyse=0, status=0, updater='47', update_time=datetime.datetime(2023, 8, 21, 14, 11, 36, 966000), value='111'),\n",
       " SystemDictionaryDO(label='重庆颐达鑫房地产营销策划有限公司', parent_id=250, id=254, css_class=None, project_analyse=0, creator='1', create_time=datetime.datetime(2023, 5, 5, 10, 47, 30, 944000), deleted=0, cost_type=None, sort=3, remark=None, color_type=None, dept_analyse=0, status=0, updater='10', update_time=datetime.datetime(2023, 8, 24, 15, 40, 8, 996000), value='111'),\n",
       " SystemDictionaryDO(label='四川恒得复生态科技有限公司', parent_id=250, id=622, css_class=None, project_analyse=0, creator='10', create_time=datetime.datetime(2023, 8, 25, 13, 37, 58, 253000), deleted=0, cost_type=None, sort=21, remark=None, color_type=None, dept_analyse=0, status=0, updater='10', update_time=datetime.datetime(2023, 8, 25, 13, 37, 58, 253000), value='111'),\n",
       " SystemDictionaryDO(label='重庆思普德勘测规划设计咨询有限公司', parent_id=250, id=623, css_class=None, project_analyse=0, creator='10', create_time=datetime.datetime(2023, 8, 25, 13, 38, 27, 168000), deleted=0, cost_type=None, sort=22, remark=None, color_type=None, dept_analyse=0, status=0, updater='10', update_time=datetime.datetime(2023, 8, 25, 13, 38, 27, 168000), value='111'),\n",
       " SystemDictionaryDO(label='重庆中驰工程勘测技术有限公司', parent_id=250, id=626, css_class=None, project_analyse=0, creator='10', create_time=datetime.datetime(2023, 8, 25, 13, 39, 29, 997000), deleted=0, cost_type=None, sort=25, remark=None, color_type=None, dept_analyse=0, status=0, updater='10', update_time=datetime.datetime(2023, 8, 25, 13, 39, 29, 997000), value='111'),\n",
       " SystemDictionaryDO(label='重庆瑞通盛工程技术服务有限公司', parent_id=250, id=635, css_class=None, project_analyse=0, creator='47', create_time=datetime.datetime(2023, 9, 6, 10, 21, 32, 200000), deleted=0, cost_type=None, sort=26, remark=None, color_type=None, dept_analyse=0, status=0, updater='47', update_time=datetime.datetime(2023, 9, 6, 10, 21, 32, 200000), value='111'),\n",
       " SystemDictionaryDO(label='重庆瑞升土地勘测规划设计有限公司', parent_id=250, id=643, css_class=None, project_analyse=0, creator='10', create_time=datetime.datetime(2023, 9, 25, 14, 57, 18, 767000), deleted=0, cost_type=None, sort=27, remark=None, color_type=None, dept_analyse=0, status=0, updater='10', update_time=datetime.datetime(2023, 9, 25, 14, 57, 18, 767000), value='111'),\n",
       " SystemDictionaryDO(label='武汉天际航信息科技股份有限公司', parent_id=250, id=663, css_class=None, project_analyse=0, creator='47', create_time=datetime.datetime(2023, 12, 11, 11, 51, 24, 790000), deleted=0, cost_type=None, sort=29, remark=None, color_type=None, dept_analyse=0, status=0, updater='47', update_time=datetime.datetime(2023, 12, 11, 11, 51, 24, 790000), value='20'),\n",
       " SystemDictionaryDO(label='重庆美都都商务信息咨询有限公司', parent_id=250, id=678, css_class=None, project_analyse=0, creator='10', create_time=datetime.datetime(2024, 1, 26, 11, 41, 39, 379000), deleted=0, cost_type=None, sort=30, remark=None, color_type=None, dept_analyse=0, status=0, updater='10', update_time=datetime.datetime(2024, 1, 26, 11, 41, 39, 379000), value='111'),\n",
       " SystemDictionaryDO(label='重庆澜图信息技术有限公司', parent_id=250, id=683, css_class=None, project_analyse=0, creator='10', create_time=datetime.datetime(2024, 3, 25, 11, 47, 49, 470000), deleted=0, cost_type=None, sort=33, remark=None, color_type=None, dept_analyse=0, status=0, updater='10', update_time=datetime.datetime(2024, 3, 25, 11, 47, 49, 470000), value='111'),\n",
       " SystemDictionaryDO(label='重庆泓沁探测工程技术服务有限公司', parent_id=250, id=686, css_class=None, project_analyse=0, creator='27', create_time=datetime.datetime(2024, 4, 18, 16, 45, 45, 434000), deleted=0, cost_type=None, sort=34, remark=None, color_type=None, dept_analyse=0, status=0, updater='27', update_time=datetime.datetime(2024, 4, 18, 16, 48, 2, 690000), value='684'),\n",
       " SystemDictionaryDO(label='海天地信科技有限公司', parent_id=250, id=688, css_class=None, project_analyse=0, creator='10', create_time=datetime.datetime(2024, 5, 13, 10, 51, 37, 642000), deleted=0, cost_type=None, sort=35, remark=None, color_type=None, dept_analyse=0, status=0, updater='10', update_time=datetime.datetime(2024, 5, 13, 10, 51, 37, 642000), value='111'),\n",
       " SystemDictionaryDO(label='重庆市渝北区房屋测绘管理所', parent_id=250, id=693, css_class=None, project_analyse=0, creator='14', create_time=datetime.datetime(2024, 7, 11, 14, 50, 24, 676000), deleted=0, cost_type=None, sort=1, remark=None, color_type=None, dept_analyse=0, status=0, updater='14', update_time=datetime.datetime(2024, 7, 11, 14, 50, 24, 676000), value='11'),\n",
       " SystemDictionaryDO(label='重庆市渝北区房屋测绘管理所', parent_id=250, id=692, css_class=None, project_analyse=0, creator='14', create_time=datetime.datetime(2024, 7, 11, 14, 48, 56, 544000), deleted=1, cost_type=None, sort=1, remark=None, color_type=None, dept_analyse=0, status=0, updater='14', update_time=datetime.datetime(2024, 7, 11, 14, 48, 56, 544000), value='1'),\n",
       " SystemDictionaryDO(label='泓言工程咨询（集团）有限公司', parent_id=250, id=695, css_class=None, project_analyse=0, creator='27', create_time=datetime.datetime(2024, 7, 24, 10, 38, 38, 16000), deleted=0, cost_type=None, sort=36, remark=None, color_type=None, dept_analyse=0, status=0, updater='27', update_time=datetime.datetime(2024, 7, 24, 10, 39, 1, 510000), value='689'),\n",
       " SystemDictionaryDO(label='重庆图行天下科技有限公司', parent_id=250, id=698, css_class=None, project_analyse=0, creator='10', create_time=datetime.datetime(2024, 8, 19, 8, 41, 47, 584000), deleted=0, cost_type=None, sort=40, remark=None, color_type=None, dept_analyse=0, status=0, updater='10', update_time=datetime.datetime(2024, 8, 19, 8, 41, 47, 584000), value='111'),\n",
       " SystemDictionaryDO(label='重庆市地质矿产勘查开发集团检验检测有限公司', parent_id=250, id=701, css_class=None, project_analyse=0, creator='10', create_time=datetime.datetime(2024, 9, 3, 9, 17, 29, 805000), deleted=0, cost_type=None, sort=40, remark=None, color_type=None, dept_analyse=0, status=0, updater='10', update_time=datetime.datetime(2024, 9, 3, 9, 17, 29, 805000), value='111')]"
      ]
     },
     "execution_count": 9,
     "metadata": {},
     "output_type": "execute_result"
    }
   ],
   "source": [
    "not_cus"
   ]
  },
  {
   "cell_type": "code",
   "execution_count": null,
   "metadata": {},
   "outputs": [],
   "source": []
  }
 ],
 "metadata": {
  "kernelspec": {
   "display_name": "Python 3",
   "language": "python",
   "name": "python3"
  },
  "language_info": {
   "codemirror_mode": {
    "name": "ipython",
    "version": 3
   },
   "file_extension": ".py",
   "mimetype": "text/x-python",
   "name": "python",
   "nbconvert_exporter": "python",
   "pygments_lexer": "ipython3",
   "version": "3.11.6"
  }
 },
 "nbformat": 4,
 "nbformat_minor": 2
}
