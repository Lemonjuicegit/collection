{
 "cells": [
  {
   "cell_type": "code",
   "execution_count": 8,
   "metadata": {},
   "outputs": [
    {
     "data": {
      "text/plain": [
       "{'name': ('John', 1),\n",
       " 'age': (30, 1),\n",
       " 'address.street': ('21 2nd Street', 2),\n",
       " 'address.city': ('New York', 2),\n",
       " 'address.coordinates.latitude': (40.7128, 3),\n",
       " 'address.coordinates.longitude': (-74.006, 3),\n",
       " 'hobbies[0]': ('reading', 1),\n",
       " 'hobbies[1]': ('cycling', 1),\n",
       " 'hobbies[2].sport': ('swimming', 2)}"
      ]
     },
     "execution_count": 8,
     "metadata": {},
     "output_type": "execute_result"
    }
   ],
   "source": [
    "def get_json_depth(json_obj, current_path='', depth=0, result=None):\n",
    "    if result is None:\n",
    "        result = {}\n",
    "    \n",
    "    if isinstance(json_obj, dict):\n",
    "        for key, value in json_obj.items():\n",
    "            new_path = f\"{current_path}.{key}\" if current_path else key\n",
    "            get_json_depth(value, new_path, depth + 1, result)\n",
    "    elif isinstance(json_obj, list):\n",
    "        for index, item in enumerate(json_obj):\n",
    "            new_path = f\"{current_path}[{index}]\"\n",
    "            get_json_depth(item, new_path, depth, result)\n",
    "    else:  # 基本类型\n",
    "        result[current_path] = (json_obj, depth)\n",
    "    \n",
    "    return result"
   ]
  },
  {
   "cell_type": "code",
   "execution_count": 9,
   "metadata": {},
   "outputs": [],
   "source": [
    "import geopandas as gpd\n",
    "import pandas as pd\n",
    "from shapely import Polygon\n",
    "xy = [(108.7245,30.9241),(108.7237,30.9241),(108.723,30.925),(108.7245,30.9241)]\n",
    "gdf = gpd.GeoDataFrame(pd.DataFrame({'bh':'1'},index=[0]),geometry=[Polygon(xy)],crs=\"EPSG:4490\")\n",
    "gdf.to_file(r\"E:\\工作文档\\测试导出数据\\test.shp\")"
   ]
  },
  {
   "cell_type": "code",
   "execution_count": 11,
   "metadata": {},
   "outputs": [
    {
     "data": {
      "text/plain": [
       "[3, 6]"
      ]
     },
     "execution_count": 11,
     "metadata": {},
     "output_type": "execute_result"
    }
   ],
   "source": [
    "aa = [3,6,7]\n",
    "aa[:-1]"
   ]
  },
  {
   "cell_type": "code",
   "execution_count": null,
   "metadata": {},
   "outputs": [],
   "source": []
  }
 ],
 "metadata": {
  "kernelspec": {
   "display_name": "Python 3",
   "language": "python",
   "name": "python3"
  },
  "language_info": {
   "codemirror_mode": {
    "name": "ipython",
    "version": 3
   },
   "file_extension": ".py",
   "mimetype": "text/x-python",
   "name": "python",
   "nbconvert_exporter": "python",
   "pygments_lexer": "ipython3",
   "version": "3.11.6"
  }
 },
 "nbformat": 4,
 "nbformat_minor": 2
}
