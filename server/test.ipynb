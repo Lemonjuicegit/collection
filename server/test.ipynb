{
 "cells": [
  {
   "cell_type": "code",
   "execution_count": 5,
   "metadata": {},
   "outputs": [],
   "source": [
    "import json\n",
    "with open(r'E:\\exploitation\\collection\\server\\menuitemURL.json', 'r',encoding='utf-8') as f:\n",
    "    menuitemURL = json.loads(f.read())\n",
    "menuitemURL['xm1'].append({\n",
    "      \"title\": \"表3\",\n",
    "      \"name\": \"表3\",\n",
    "      \"URL\": \"https://www.kdocs.cn/wo/sl/v33U3FPN?app_id=4NhEwy4hboKZRG1Wq9mYU\"\n",
    "})\n",
    "with open(r'E:\\exploitation\\collection\\server\\menuitemURL.json', 'w',encoding='utf-8') as f:\n",
    "    f.write(json.dumps(menuitemURL))\n",
    "    \n"
   ]
  },
  {
   "cell_type": "code",
   "execution_count": 1,
   "metadata": {},
   "outputs": [
    {
     "ename": "",
     "evalue": "",
     "output_type": "error",
     "traceback": [
      "\u001b[1;31m在当前单元格或上一个单元格中执行代码时 Kernel 崩溃。请查看单元格中的代码，以确定故障的可能原因。有关详细信息，请单击 <a href='https://aka.ms/vscodeJupyterKernelCrash'>此处</a>。有关更多详细信息，请查看 Jupyter <a href='command:jupyter.viewOutput'>log</a>。"
     ]
    }
   ],
   "source": [
    "from log import log\n",
    "log1 = log('./')\n",
    "log1.info('hello')"
   ]
  }
 ],
 "metadata": {
  "kernelspec": {
   "display_name": "Python 3",
   "language": "python",
   "name": "python3"
  },
  "language_info": {
   "codemirror_mode": {
    "name": "ipython",
    "version": 3
   },
   "file_extension": ".py",
   "mimetype": "text/x-python",
   "name": "python",
   "nbconvert_exporter": "python",
   "pygments_lexer": "ipython3",
   "version": "3.11.6"
  }
 },
 "nbformat": 4,
 "nbformat_minor": 2
}
