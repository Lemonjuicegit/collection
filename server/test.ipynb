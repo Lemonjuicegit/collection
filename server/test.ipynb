{
 "cells": [
  {
   "cell_type": "code",
   "execution_count": 1,
   "metadata": {},
   "outputs": [
    {
     "name": "stdout",
     "output_type": "stream",
     "text": [
      "2024-09-25 17:13:37,389 INFO sqlalchemy.engine.Engine BEGIN (implicit)\n",
      "2024-09-25 17:13:37,394 INFO sqlalchemy.engine.Engine SELECT device_ip.id, device_ip.title, device_ip.name, device_ip.ip, device_ip.grant \n",
      "FROM device_ip \n",
      "WHERE device_ip.grant = ?\n",
      "2024-09-25 17:13:37,394 INFO sqlalchemy.engine.Engine [generated in 0.00041s] (1,)\n"
     ]
    }
   ],
   "source": [
    "import numpy as np\n",
    "import os\n",
    "import pandas as pd\n",
    "import geopandas as gpd\n",
    "import rasterio\n",
    "import matplotlib.pyplot as plt\n",
    "import pdfplumber\n",
    "import struct\n",
    "from uuid import uuid4\n",
    "from scipy.optimize import curve_fit\n",
    "from pathlib import Path\n",
    "from shapely import MultiLineString, Point\n",
    "from docx import Document\n",
    "from docx.table import _Cell\n",
    "from package.utils import re_json\n",
    "from routers.collection.service import deviceIpService, dataItemService, routerService"
   ]
  },
  {
   "cell_type": "code",
   "execution_count": null,
   "metadata": {},
   "outputs": [],
   "source": [
    "datapath = r\"E:\\工作文档\\开州项目\\编号.xlsx\"\n",
    "df = pd.read_excel(datapath)\n",
    "df = df.fillna(\"\")\n",
    "TBBH_list = set(df[\"TBBH\"].values)\n",
    "for tbbh in TBBH_list:\n",
    "    data = df[df[\"TBBH\"] == tbbh]\n",
    "    xh_list = list({int(v) for v in data[\"xh\"].values if v != \"\"})\n",
    "    xh = 0\n",
    "    if xh_list:\n",
    "        xh_max = max(xh_list)\n",
    "        for i in xh_list:\n",
    "            data_xh = data[data[\"xh\"] == i]\n",
    "            for index, row in data_xh.iterrows():\n",
    "                if xh == 0:\n",
    "                    xh += 1\n",
    "                    continue\n",
    "                else:\n",
    "                    df.loc[index, \"xh\"] = xh + xh_max\n",
    "                    xh += 1\n",
    "        xh = 0\n",
    "    else:\n",
    "        for index, row in data.iterrows():\n",
    "            xh += 1\n",
    "            df.loc[index, \"xh\"] = xh\n",
    "        xh = 0\n",
    "\n",
    "df.to_excel(r\"E:\\工作文档\\开州项目\\重新编号.xlsx\")\n"
   ]
  },
  {
   "cell_type": "code",
   "execution_count": 5,
   "metadata": {},
   "outputs": [],
   "source": [
    "df = pd.read_excel(r\"C:\\Users\\Administrator\\Desktop\\面积最大.xlsx\")\n",
    "dfdata = pd.DataFrame(columns=df.columns)\n",
    "CGBH = set(df.CGBH.values)\n",
    "for v in CGBH:\n",
    "    CGBH_temp = df[df.CGBH == v]\n",
    "    Area = CGBH_temp.Area.values\n",
    "    Area_max = max([value for value in Area])\n",
    "    res = CGBH_temp[CGBH_temp.Area == Area_max].values[0]\n",
    "    dfdata.loc[dfdata.shape[0]] = [*res]\n",
    "dfdata.to_excel(r\"E:\\工作文档\\qita\\台账过程\\新建文件夹\\aa.xlsx\", index=False)"
   ]
  },
  {
   "cell_type": "code",
   "execution_count": null,
   "metadata": {},
   "outputs": [],
   "source": [
    "dataset = rasterio.open(r\"F:\\日常变更影像\\0715\\国梁等27个日常变更影像\\01.jpg\")\n",
    "pass\n",
    "# arr = dataset.read(1)\n",
    "# df = pd.DataFrame(arr)\n",
    "# df.to_excel(r'E:\\工作文档\\测试导出数据\\01.xlsx',index=False)\n"
   ]
  },
  {
   "cell_type": "code",
   "execution_count": 27,
   "metadata": {},
   "outputs": [],
   "source": [
    "gdbpath = r\"E:\\工作文档\\云阳县城市国土空间监测\\gdb数据库\\道路拓扑.gdb\"\n",
    "save = r\"E:\\工作文档\\云阳县城市国土空间监测\"\n",
    "LVLL = gpd.read_file(gdbpath, layer=\"LVLL\")\n",
    "LRDL = gpd.read_file(gdbpath, layer=\"LRDL\")\n",
    "LCTL = gpd.read_file(gdbpath, layer=\"LCTL\")\n",
    "hb = gpd.read_file(gdbpath, layer=\"合并\")\n",
    "\n",
    "\n",
    "def inspect(shp, savapath):\n",
    "    resdf = gpd.GeoDataFrame(columns=[\"dlbm\", \"x\", \"y\", \"add\", \"geometry\"])\n",
    "    for _, row in shp.iterrows():\n",
    "        if type(row.geometry) == MultiLineString:\n",
    "            point_xy = row.geometry.geoms[0].xy\n",
    "        else:\n",
    "            point_xy = row.geometry.xy\n",
    "        po1 = Point(point_xy[0][0], point_xy[1][0])\n",
    "        po2 = Point(point_xy[0][-1], point_xy[1][-1])\n",
    "        resdf.loc[resdf.shape[0]] = [\n",
    "            row.RN,\n",
    "            point_xy[0][0],\n",
    "            point_xy[1][0],\n",
    "            f\"{point_xy[0][0]}{point_xy[1][0]}\",\n",
    "            po1,\n",
    "        ]\n",
    "        resdf.loc[resdf.shape[0]] = [\n",
    "            row.RN,\n",
    "            point_xy[0][-1],\n",
    "            point_xy[1][-1],\n",
    "            f\"{point_xy[0][-1]}{point_xy[1][-1]}\",\n",
    "            po2,\n",
    "        ]\n",
    "    resdf.crs = shp.crs\n",
    "    resdf.to_file(savapath)\n",
    "\n",
    "\n",
    "inspect(hb, os.path.join(save, \"检查.shp\"))"
   ]
  },
  {
   "cell_type": "code",
   "execution_count": 2,
   "metadata": {},
   "outputs": [
    {
     "data": {
      "text/plain": [
       "18831845140"
      ]
     },
     "execution_count": 2,
     "metadata": {},
     "output_type": "execute_result"
    }
   ],
   "source": [
    "def get_folder_size(folder_path):\n",
    "    # 计算文件夹大小\n",
    "    total_size = 0\n",
    "    for path, dirs, files in os.walk(folder_path):\n",
    "        for file in files:\n",
    "            file_path = os.path.join(path, file)\n",
    "            total_size += os.path.getsize(file_path)\n",
    "    return total_size\n",
    "\n",
    "\n",
    "a = get_folder_size(r\"C:\\Users\\Administrator\\AppData\\Local\")\n",
    "a"
   ]
  },
  {
   "cell_type": "code",
   "execution_count": 3,
   "metadata": {},
   "outputs": [
    {
     "data": {
      "text/plain": [
       "0.30000000000000004"
      ]
     },
     "execution_count": 3,
     "metadata": {},
     "output_type": "execute_result"
    }
   ],
   "source": [
    "def TopAdd(DictoAdjs, MJtoAdjs, AddNums):\n",
    "    try:\n",
    "        Count = abs(MJtoAdjs)\n",
    "        # arcpy.AddMessage(DicLen)\n",
    "        if MJtoAdjs < 0:\n",
    "            AddNums = -AddNums\n",
    "        i = 0\n",
    "        for key in DictoAdjs.keys():\n",
    "            if i < Count:\n",
    "                # if key == u'370982211000059509':\n",
    "                #    arcpy.AddMessage(str(DictoAdjs[key][0])+ \" TopAdd \" + str(Decimal(AddNums)))\n",
    "                DictoAdjs[key][0] = (\n",
    "                    Decimal(DictoAdjs[key][0]) + Decimal(AddNums)\n",
    "                ).quantize(Decimal(\"0.00\"))\n",
    "                i += 1\n",
    "            else:\n",
    "                break\n",
    "        # arcpy.AddMessage(DictoAdjs)\n",
    "        return DictoAdjs\n",
    "    except Exception as e:\n",
    "        arcpy.AddMessage(\"出错\" + e.message)\n",
    "        return DictoAdjs\n"
   ]
  },
  {
   "cell_type": "code",
   "execution_count": 3,
   "metadata": {},
   "outputs": [
    {
     "data": {
      "image/png": "[encoded data removed]",
      "text/plain": [
       "<Figure size 800x600 with 1 Axes>"
      ]
     },
     "metadata": {},
     "output_type": "display_data"
    }
   ],
   "source": [
    "def log_func(x, A, B, C, D):\n",
    "    # 拟合函数\n",
    "    return A * (x**3) + B * (x**2) + C * x + D\n",
    "\n",
    "\n",
    "# 创建数据点\n",
    "x_data = np.array(\n",
    "    [116.35, 116.65, 116.95, 117.2, 117.4, 117.55, 117.7, 117.75, 117.8, 117.85]\n",
    ")\n",
    "y_data = np.array([1, 1.1, 1.21, 1.35, 1.45, 1.58, 1.7, 1.82, 1.91, 2.12])\n",
    "\n",
    "# 拟合数据\n",
    "popt, pcov = curve_fit(log_func, x_data, y_data)\n",
    "\n",
    "# 绘制数据和拟合曲线\n",
    "plt.rcParams[\"font.sans-serif\"] = [\"SimHei\"]\n",
    "plt.rcParams[\"axes.unicode_minus\"] = False\n",
    "plt.figure(figsize=(8, 6))\n",
    "plt.scatter(x_data, y_data, label=r\"数据点\", color=\"blue\")\n",
    "plt.plot(x_data, log_func(x_data, *popt), \"r-\", label=\"拟合曲线\")\n",
    "plt.legend()\n",
    "plt.title(\"水深与面积拟合\")\n",
    "plt.show()"
   ]
  },
  {
   "cell_type": "code",
   "execution_count": null,
   "metadata": {},
   "outputs": [],
   "source": [
    "def extract_tables_from_pdf(pdf_path):\n",
    "    tables = []\n",
    "    with pdfplumber.open(pdf_path) as pdf:\n",
    "        for page in pdf.pages:\n",
    "            table_data = page.extract_tables()\n",
    "            if table_data:\n",
    "                tables.extend(table_data)\n",
    "    return tables\n",
    "\n",
    "\n",
    "def add_table_to_docx(doc, table_data):\n",
    "    table = doc.add_table(rows=len(table_data), cols=len(table_data[0]))\n",
    "    for i, row in enumerate(table_data):\n",
    "        for j, cell_data in enumerate(row):\n",
    "            cell: _Cell = table.cell(i, j)\n",
    "            cell.text = str(cell_data)\n",
    "    return table\n",
    "\n",
    "\n",
    "def pdf_to_word(pdf_path, word_path):\n",
    "    doc = Document()\n",
    "    tables = extract_tables_from_pdf(pdf_path)\n",
    "    for table_data in tables:\n",
    "        add_table_to_docx(doc, table_data)\n",
    "    doc.save(word_path)\n",
    "\n",
    "\n",
    "# 指定PDF文件和输出的Word文件路径\n",
    "pdf_file = r\"E:\\工作文档\\资料标准文件\\303-自然资源监测培训ppt及材料\\5.pdf\"\n",
    "docx_file = r\"E:\\工作文档\\资料标准文件\\303-自然资源监测培训ppt及材料\\5-2.docx\"\n",
    "\n",
    "# 调用函数进行转换\n",
    "pdf_to_word(pdf_file, docx_file)\n"
   ]
  },
  {
   "cell_type": "code",
   "execution_count": null,
   "metadata": {},
   "outputs": [],
   "source": [
    "images_data_path = Path(r\"D:\\深度学习\\MNIST数据集\\train-images.idx3-ubyte\").read_bytes()\n",
    "labels_data_path = Path(r\"D:\\深度学习\\MNIST数据集\\train-labels.idx1-ubyte\").read_bytes()\n",
    "images_data = np.frombuffer(images_data_path, np.uint8)\n",
    "labels_data = np.frombuffer(labels_data_path, np.uint8)\n",
    "data = images_data[16:].reshape([-1, 28])\n",
    "plt.matshow(data[28:56], cmap=plt.get_cmap(\"gray\"))\n",
    "plt.show()"
   ]
  },
  {
   "cell_type": "code",
   "execution_count": 11,
   "metadata": {},
   "outputs": [
    {
     "name": "stdout",
     "output_type": "stream",
     "text": [
      "[-8, -7, -6, -5, -4, -3, -2, -1, 0, 1, 2, 3, 4, 5, 6, 7, 8]\n",
      "[0 0 0 0 0 0 0 0 0 1 2 3 4 5 6 7 8]\n"
     ]
    },
    {
     "data": {
      "image/png": "[encoded data removed]",
      "text/plain": [
       "<Figure size 640x480 with 1 Axes>"
      ]
     },
     "metadata": {},
     "output_type": "display_data"
    },
    {
     "data": {
      "text/plain": [
       "[-8, -7, -6, -5, -4, -3, -2, -1, 0, 1, 2, 3, 4, 5, 6, 7, 8]"
      ]
     },
     "execution_count": 11,
     "metadata": {},
     "output_type": "execute_result"
    }
   ],
   "source": [
    "def RrlU(x):\n",
    "    return np.maximum(0, x)\n",
    "\n",
    "\n",
    "a = [-8, -7, -6, -5, -4, -3, -2, -1, 0, 1, 2, 3, 4, 5, 6, 7, 8]\n",
    "print(a)\n",
    "print(RrlU(a))\n",
    "plt.plot(a, RrlU(a), \"r-\", label=\"拟合曲线\")\n",
    "plt.show()\n",
    "\n",
    "a"
   ]
  },
  {
   "cell_type": "code",
   "execution_count": 13,
   "metadata": {},
   "outputs": [
    {
     "data": {
      "text/plain": [
       "array([[ 3, 54,  3]])"
      ]
     },
     "execution_count": 13,
     "metadata": {},
     "output_type": "execute_result"
    }
   ],
   "source": [
    "a = np.array([3, 54, 3])\n",
    "a.reshape(1, a.size)"
   ]
  },
  {
   "cell_type": "code",
   "execution_count": null,
   "metadata": {},
   "outputs": [],
   "source": [
    "def cross_entropy_error(y, t):\n",
    "    if y.ndim == 1:\n",
    "        t = t.reshape(1, t.size)\n",
    "        y = y.reshape(1, y.size)\n",
    "\n",
    "    # 监督数据是one-hot-vector的情况下，转换为正确解标签的索引\n",
    "    if t.size == y.size:\n",
    "        t = t.argmax(axis=1)\n",
    "\n",
    "    batch_size = y.shape[0]\n",
    "    return -np.sum(np.log(y[np.arange(batch_size), t] + 1e-7)) / batch_size\n",
    "\n",
    "\n",
    "a = np.array([3, 54, 3])\n",
    "res = cross_entropy_error(a, np.array([4, 6, 7]))\n",
    "res\n"
   ]
  },
  {
   "cell_type": "code",
   "execution_count": null,
   "metadata": {},
   "outputs": [],
   "source": [
    "from routers.collection.do import *\n",
    "from routers.common.engine import craete_table\n",
    "\n",
    "craete_table()"
   ]
  },
  {
   "cell_type": "code",
   "execution_count": 2,
   "metadata": {},
   "outputs": [
    {
     "data": {
      "text/plain": [
       "1"
      ]
     },
     "execution_count": 2,
     "metadata": {},
     "output_type": "execute_result"
    }
   ],
   "source": [
    "class A:\n",
    "    def __init__(self):\n",
    "        self.a = 1\n",
    "\n",
    "    def print_a(self):\n",
    "        print(self.a)\n",
    "\n",
    "\n",
    "class B(A):\n",
    "    def print_a(self):\n",
    "        super().print_a()\n",
    "        print(\"b\")\n",
    "\n",
    "\n",
    "b = B()\n",
    "b.a"
   ]
  },
  {
   "cell_type": "code",
   "execution_count": 2,
   "metadata": {},
   "outputs": [],
   "source": [
    "res = re_json(r\"C:\\Users\\Administrator\\Desktop\\menuitemURL.json\")\n",
    "# res = routerService.select({\"path\": \"xm1\"})\n",
    "# res"
   ]
  },
  {
   "cell_type": "code",
   "execution_count": null,
   "metadata": {},
   "outputs": [],
   "source": [
    "result = []\n",
    "\n",
    "\n",
    "def convert(data, router_name, parent_name=None):\n",
    "    for row in data:\n",
    "        if row[\"child\"]:\n",
    "            result.append(\n",
    "                {\n",
    "                    \"title\": row[\"title\"],\n",
    "                    \"name\": row[\"name\"],\n",
    "                    \"URL\": row[\"URL\"],\n",
    "                    \"path\": row[\"path\"],\n",
    "                    \"color\": row[\"color\"],\n",
    "                    \"parent_name\": parent_name if parent_name else \"top\",\n",
    "                    \"router_name\": router_name,\n",
    "                    \"is_group\": False,\n",
    "                }\n",
    "            )\n",
    "        else:\n",
    "            result.append(\n",
    "                {\n",
    "                    \"title\": row[\"title\"],\n",
    "                    \"name\": row[\"name\"],\n",
    "                    \"color\": row[\"color\"],\n",
    "                    \"parent_name\": parent_name if parent_name else \"top\",\n",
    "                    \"router_name\": router_name,\n",
    "                    \"is_group\": True,\n",
    "                }\n",
    "            )\n",
    "            try:\n",
    "                convert(row[\"children\"], router_name, row[\"name\"])\n",
    "            except:\n",
    "                pass\n",
    "\n",
    "\n",
    "for router_name in res:\n",
    "    sele_res = routerService.select({\"path\": router_name})\n",
    "    convert(res[router_name][\"data\"], sele_res[0].name)\n",
    "\n",
    "dataItemService.insert(result)"
   ]
  },
  {
   "cell_type": "code",
   "execution_count": null,
   "metadata": {},
   "outputs": [],
   "source": [
    "from routers.manage.service import ManageService\n",
    "\n",
    "serv = ManageService()\n",
    "# res = serv.dataItemService.select({'id':1})\n",
    "res = serv.getDataItemTree()\n",
    "res"
   ]
  },
  {
   "cell_type": "code",
   "execution_count": null,
   "metadata": {},
   "outputs": [],
   "source": [
    "res = dataItemService.select({\"id\": 1})\n",
    "res"
   ]
  },
  {
   "cell_type": "code",
   "execution_count": 11,
   "metadata": {},
   "outputs": [
    {
     "name": "stdout",
     "output_type": "stream",
     "text": [
      "没有找到GPS信息\n"
     ]
    }
   ],
   "source": [
    "from PIL import Image\n",
    "import piexif\n",
    "\n",
    "\n",
    "def get_gps_info(image_path):\n",
    "    # 打开图片\n",
    "    img = Image.open(image_path)\n",
    "    # 获取Exif信息\n",
    "    exif_dict = piexif.load(img.info[\"exif\"])\n",
    "\n",
    "    if \"GPS\" in exif_dict:\n",
    "        gps_info = exif_dict[\"GPS\"]\n",
    "\n",
    "        # 解析经纬度\n",
    "        def dms_to_dd(dms, ref):\n",
    "            degrees = dms[0][0] / dms[0][1]\n",
    "            minutes = dms[1][0] / dms[1][1] / 60.0\n",
    "            seconds = dms[2][0] / dms[2][1] / 3600.0\n",
    "\n",
    "            if ref in [\"S\", \"W\"]:\n",
    "                degrees = -degrees\n",
    "                minutes = -minutes\n",
    "                seconds = -seconds\n",
    "\n",
    "            return round(degrees + minutes + seconds, 7)\n",
    "\n",
    "        lat = dms_to_dd(gps_info[2], gps_info[1])\n",
    "        lon = dms_to_dd(gps_info[4], gps_info[3])\n",
    "\n",
    "        print(f\"纬度: {lat}, 经度: {lon}\")\n",
    "    else:\n",
    "        print(\"没有找到GPS信息\")\n",
    "\n",
    "\n",
    "# 调用函数并传入图片路径\n",
    "get_gps_info(r\"C:\\Users\\Administrator\\Desktop\\IMG_20240920_163336.jpg\")"
   ]
  },
  {
   "cell_type": "code",
   "execution_count": 2,
   "metadata": {},
   "outputs": [
    {
     "ename": "KeyboardInterrupt",
     "evalue": "",
     "output_type": "error",
     "traceback": [
      "\u001b[1;31m---------------------------------------------------------------------------\u001b[0m",
      "\u001b[1;31mKeyboardInterrupt\u001b[0m                         Traceback (most recent call last)",
      "Cell \u001b[1;32mIn[2], line 14\u001b[0m\n\u001b[0;32m     12\u001b[0m     \u001b[38;5;28;01mfor\u001b[39;00m i \u001b[38;5;129;01min\u001b[39;00m \u001b[38;5;28mrange\u001b[39m(\u001b[38;5;28mlen\u001b[39m(las\u001b[38;5;241m.\u001b[39mx)):\n\u001b[0;32m     13\u001b[0m       xyz \u001b[38;5;241m=\u001b[39m \u001b[38;5;124mf\u001b[39m\u001b[38;5;124m\"\u001b[39m\u001b[38;5;132;01m{\u001b[39;00mlas\u001b[38;5;241m.\u001b[39mx[i]\u001b[38;5;132;01m}\u001b[39;00m\u001b[38;5;124m,\u001b[39m\u001b[38;5;132;01m{\u001b[39;00mlas\u001b[38;5;241m.\u001b[39my[i]\u001b[38;5;132;01m}\u001b[39;00m\u001b[38;5;124m,\u001b[39m\u001b[38;5;132;01m{\u001b[39;00mlas\u001b[38;5;241m.\u001b[39mz[i]\u001b[38;5;132;01m}\u001b[39;00m\u001b[38;5;124m\"\u001b[39m\n\u001b[1;32m---> 14\u001b[0m       \u001b[43mf\u001b[49m\u001b[38;5;241;43m.\u001b[39;49m\u001b[43mwrite\u001b[49m\u001b[43m(\u001b[49m\u001b[43mxyz\u001b[49m\u001b[38;5;241;43m+\u001b[39;49m\u001b[38;5;124;43m\"\u001b[39;49m\u001b[38;5;130;43;01m\\n\u001b[39;49;00m\u001b[38;5;124;43m\"\u001b[39;49m\u001b[43m)\u001b[49m\n\u001b[0;32m     19\u001b[0m \u001b[38;5;66;03m# 读取LAS文件\u001b[39;00m\n\u001b[0;32m     20\u001b[0m file_path \u001b[38;5;241m=\u001b[39m \u001b[38;5;124mr\u001b[39m\u001b[38;5;124m'\u001b[39m\u001b[38;5;124mE:\u001b[39m\u001b[38;5;124m\\\u001b[39m\u001b[38;5;124m工作文档\u001b[39m\u001b[38;5;124m\\\u001b[39m\u001b[38;5;124m万州区\u001b[39m\u001b[38;5;124m\\\u001b[39m\u001b[38;5;124m水资源\u001b[39m\u001b[38;5;124m\\\u001b[39m\u001b[38;5;124m点云\u001b[39m\u001b[38;5;124m\\\u001b[39m\u001b[38;5;124m鱼背山1地面点.las\u001b[39m\u001b[38;5;124m'\u001b[39m\n",
      "\u001b[1;31mKeyboardInterrupt\u001b[0m: "
     ]
    }
   ],
   "source": [
    "# 处理点云数据\n",
    "import laspy\n",
    "import numpy as np\n",
    "from pathlib import Path\n",
    "\n",
    "path_ = r\"E:\\工作文档\\万州区\\水资源\\点云\"\n",
    "\n",
    "files = Path(path_).glob(\"*.las\")\n",
    "\n",
    "for file in files:\n",
    "    with open(r\"E:\\工作文档\\万州区\\水资源\\点云\\点云.xyz\", \"a\") as f:\n",
    "        las = laspy.read(file)\n",
    "        for i in range(len(las.x)):\n",
    "            xyz = f\"{las.x[i]},{las.y[i]},{las.z[i]}\"\n",
    "            f.write(xyz + \"\\n\")\n",
    "\n",
    "\n",
    "# 读取LAS文件\n",
    "file_path = r\"E:\\工作文档\\万州区\\水资源\\点云\\鱼背山1地面点.las\"\n",
    "las = laspy.read(file_path)\n",
    "\n",
    "\n",
    "# 访问点云数据\n",
    "points = np.vstack((las.x, las.y, las.z)).transpose()\n",
    "\n",
    "# 打印前5个点的坐标\n",
    "print(points[:5])\n",
    "\n",
    "# 访问其他属性\n",
    "intensity = las.intensity\n",
    "classification = las.classification\n",
    "return_number = las.return_number\n",
    "number_of_returns = las.number_of_returns\n",
    "\n",
    "# 打印前5个点的强度和分类\n",
    "print(intensity[:5])\n",
    "print(classification[:5])\n",
    "\n",
    "# 创建新的LAS文件\n",
    "new_file_path = \"path/to/your/new_file.las\"\n",
    "header = laspy.LasHeader(point_format=las.point_format, version=las.version)\n",
    "with laspy.open(new_file_path, mode=\"w\", header=header) as writer:\n",
    "    writer.write_points(las.points)\n",
    "\n",
    "print(f\"新文件已保存到 {new_file_path}\")"
   ]
  },
  {
   "cell_type": "code",
   "execution_count": 1,
   "metadata": {},
   "outputs": [],
   "source": [
    "# 处理点云数据\n",
    "import laspy\n",
    "import numpy as np\n",
    "from pathlib import Path\n",
    "\n",
    "path_ = r\"E:\\工作文档\\万州区\\水资源\\点云\"\n",
    "\n",
    "files = Path(path_).glob(\"*.las\")\n",
    "# files = [Path(r\"E:\\工作文档\\万州区\\水资源\\点云\\鱼背山6地面点.las\")]\n",
    "for file in files:\n",
    "    with open(r\"E:\\工作文档\\万州区\\水资源\\点云\\点云.xyz\", \"a\") as f:\n",
    "        las = laspy.read(file)\n",
    "        for i in range(len(las.x)):\n",
    "            xyz = f\"{las.x[i]},{las.y[i]},{las.z[i]}\"\n",
    "            f.write(xyz + \"\\n\")"
   ]
  },
  {
   "cell_type": "code",
   "execution_count": 4,
   "metadata": {},
   "outputs": [],
   "source": [
    "df = pd.read_excel(r\"E:\\工作文档\\梁平区\\计算水深平均值.xlsx\")\n",
    "sh = {}\n",
    "\n",
    "\n",
    "def convert(row):\n",
    "    if row.code not in sh:\n",
    "        sh[row.code] = []\n",
    "    sh[row.code].append(float(row.sh))\n",
    "\n",
    "\n",
    "df.apply(convert, axis=1)\n",
    "sh_pj = pd.DataFrame(columns=[\"code\", \"sh\"])\n",
    "for i in sh:\n",
    "    sh_pj.loc[len(sh_pj)] = [i, sum(sh[i]) / len(sh[i])]\n",
    "sh_pj.to_excel(r\"E:\\工作文档\\梁平区\\计算水深平均值2.xlsx\", index=False)\n"
   ]
  },
  {
   "cell_type": "code",
   "execution_count": 9,
   "metadata": {},
   "outputs": [],
   "source": [
    "def Degree(d=0, f=0, m=0):\n",
    "    return d + f / 60 + m / 3600\n",
    "\n",
    "\n",
    "def sec(d=0, f=0, m=0):\n",
    "    return d * 3600 + f * 60 + m\n",
    "\n",
    "\n",
    "def degrees_to_dms(degrees):\n",
    "    d = int(degrees)\n",
    "    minutes_t = (degrees - d) * 60\n",
    "    m = int(minutes_t)\n",
    "    s = (minutes_t - m) * 60\n",
    "    return [d, m, s]\n",
    "\n",
    "\n",
    "# 百万经差6度,纬差4度\n",
    "# jc = Degree(0, 3, 45)  # 经差\n",
    "# wc = Degree(0, 2, 30)  # 纬差\n",
    "# x = [108, 30, 0.0]  # 经度\n",
    "# y = [30, 30, 0.0]\n",
    "# x_ = int(x / jc) * jc\n",
    "# y_ = int(y / wc) * wc\n",
    "# print(degrees_to_dms(x_), degrees_to_dms(wc))\n",
    "# print(wc)"
   ]
  },
  {
   "cell_type": "code",
   "execution_count": 16,
   "metadata": {},
   "outputs": [],
   "source": [
    "def TFH(latitude, longitude):\n",
    "    million_latitude = [chr(i) for i in range(65, 91)]\n",
    "    million_row = million_latitude[int(longitude[0] / 4)]\n",
    "    million_col = int(latitude[0] / 6) + 1\n",
    "    wd = sec(*longitude)  # 经度十进制值\n",
    "    jd = sec(*latitude)  # 纬度十进制值\n",
    "    w_row = str(96 - int((wd - int(wd / 14400) * 14400) / 150) + 1)\n",
    "    w_col = str(int((jd - int(jd / 21600) * 21600) / 225) + 1)\n",
    "    row_h = \"0\" * (3 - len(w_row))\n",
    "    col_h = \"0\" * (3 - len(w_col))\n",
    "    return f\"{million_row}{million_col}G{row_h}{w_row}{col_h}{w_col}\""
   ]
  },
  {
   "cell_type": "code",
   "execution_count": 2,
   "metadata": {},
   "outputs": [
    {
     "name": "stdout",
     "output_type": "stream",
     "text": [
      "10000000\n",
      "CPU times: total: 1.11 s\n",
      "Wall time: 1.11 s\n"
     ]
    }
   ],
   "source": [
    "%%time\n",
    "import numpy as np\n",
    "from package.concurrent import parallel\n",
    "\n",
    "result1 = []\n",
    "\n",
    "\n",
    "def call(x):\n",
    "    return x**2\n",
    "\n",
    "\n",
    "# result1 = parallel(call, range(10000000))\n",
    "\n",
    "for i in range(10000000):\n",
    "    result1.append(call(i))\n",
    "print(len(result1))"
   ]
  },
  {
   "cell_type": "code",
   "execution_count": 2,
   "metadata": {},
   "outputs": [
    {
     "name": "stdout",
     "output_type": "stream",
     "text": [
      "2024-09-25 17:13:41,512 INFO sqlalchemy.engine.Engine SELECT router.id, router.title, router.name, router.path, router.router_type \n",
      "FROM router \n",
      "WHERE router.router_type = ?\n",
      "2024-09-25 17:13:41,512 INFO sqlalchemy.engine.Engine [generated in 0.00095s] ('manage',)\n"
     ]
    },
    {
     "data": {
      "text/plain": [
       "[RouterDO(path='manage', name='4dd849d3ce9e4b0894fa02e9db62b96b', router_type='manage', title='manage', id=12)]"
      ]
     },
     "execution_count": 2,
     "metadata": {},
     "output_type": "execute_result"
    }
   ],
   "source": [
    "res = routerService.select({\"router_type\": \"manage\"})\n",
    "res"
   ]
  },
  {
   "cell_type": "code",
   "execution_count": null,
   "metadata": {},
   "outputs": [],
   "source": []
  }
 ],
 "metadata": {
  "kernelspec": {
   "display_name": "Python 3",
   "language": "python",
   "name": "python3"
  },
  "language_info": {
   "codemirror_mode": {
    "name": "ipython",
    "version": 3
   },
   "file_extension": ".py",
   "mimetype": "text/x-python",
   "name": "python",
   "nbconvert_exporter": "python",
   "pygments_lexer": "ipython3",
   "version": "3.11.6"
  }
 },
 "nbformat": 4,
 "nbformat_minor": 2
}
