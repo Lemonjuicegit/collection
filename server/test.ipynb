{
 "cells": [
  {
   "cell_type": "code",
   "execution_count": 8,
   "metadata": {},
   "outputs": [
    {
     "data": {
      "text/plain": [
       "{'name': ('John', 1),\n",
       " 'age': (30, 1),\n",
       " 'address.street': ('21 2nd Street', 2),\n",
       " 'address.city': ('New York', 2),\n",
       " 'address.coordinates.latitude': (40.7128, 3),\n",
       " 'address.coordinates.longitude': (-74.006, 3),\n",
       " 'hobbies[0]': ('reading', 1),\n",
       " 'hobbies[1]': ('cycling', 1),\n",
       " 'hobbies[2].sport': ('swimming', 2)}"
      ]
     },
     "execution_count": 8,
     "metadata": {},
     "output_type": "execute_result"
    }
   ],
   "source": [
    "def get_json_depth(json_obj, current_path='', depth=0, result=None):\n",
    "    if result is None:\n",
    "        result = {}\n",
    "    \n",
    "    if isinstance(json_obj, dict):\n",
    "        for key, value in json_obj.items():\n",
    "            new_path = f\"{current_path}.{key}\" if current_path else key\n",
    "            get_json_depth(value, new_path, depth + 1, result)\n",
    "    elif isinstance(json_obj, list):\n",
    "        for index, item in enumerate(json_obj):\n",
    "            new_path = f\"{current_path}[{index}]\"\n",
    "            get_json_depth(item, new_path, depth, result)\n",
    "    else:  # 基本类型\n",
    "        result[current_path] = (json_obj, depth)\n",
    "    \n",
    "    return result"
   ]
  },
  {
   "cell_type": "code",
   "execution_count": 3,
   "metadata": {},
   "outputs": [
    {
     "name": "stdout",
     "output_type": "stream",
     "text": [
      "['xm1', 'xm2', 'xm3', 'xm4', 'xm5', 'xm6', '综合', 'xm7', 'xm8']\n"
     ]
    }
   ],
   "source": [
    "import json\n",
    "from pathlib import Path\n",
    "\n",
    "menuitemURL = Path(Path.cwd()) / 'menuitemURL.json'\n",
    "\n",
    "def getRouterName():\n",
    "    menuitem = json.loads(menuitemURL.read_text(encoding='utf-8'))\n",
    "    routerName = [key for key in menuitem]\n",
    "    return routerName\n",
    "print(getRouterName())"
   ]
  },
  {
   "cell_type": "code",
   "execution_count": 8,
   "metadata": {},
   "outputs": [],
   "source": [
    "import pandas as pd\n",
    "datapath = r'E:\\工作文档\\开州项目\\编号.xlsx'\n",
    "df = pd.read_excel(datapath)\n",
    "df = df.fillna('')\n",
    "TBBH_list = set(df['TBBH'].values)\n",
    "for tbbh in TBBH_list:\n",
    "    data = df[df['TBBH'] == tbbh]\n",
    "    xh_list = list({int(v) for v in data['xh'].values if v != ''})\n",
    "    xh = 0\n",
    "    if xh_list:\n",
    "        xh_max = max(xh_list)\n",
    "        for i in xh_list:\n",
    "            data_xh = data[data['xh'] == i]\n",
    "            for index,row in data_xh.iterrows():\n",
    "                if xh == 0:\n",
    "                    xh += 1\n",
    "                    continue\n",
    "                else:\n",
    "                    df.loc[index,'xh'] = xh+ xh_max\n",
    "                    xh += 1\n",
    "        xh = 0\n",
    "    else:\n",
    "        for index,row in data.iterrows():\n",
    "            xh += 1\n",
    "            df.loc[index,'xh'] = xh\n",
    "        xh = 0\n",
    "\n",
    "df.to_excel(r\"E:\\工作文档\\开州项目\\重新编号.xlsx\")"
   ]
  },
  {
   "cell_type": "code",
   "execution_count": null,
   "metadata": {},
   "outputs": [],
   "source": [
    "import geopandas as gpd\n",
    "\n",
    "gdf = gpd.read_file(r'E:\\工作文档\\云阳县城市国土空间监测\\变更河流水面.shp')\n",
    "gdf"
   ]
  },
  {
   "cell_type": "code",
   "execution_count": 5,
   "metadata": {},
   "outputs": [],
   "source": [
    "import pandas as pd\n",
    "df = pd.read_excel(r'C:\\Users\\Administrator\\Desktop\\面积最大.xlsx')\n",
    "dfdata = pd.DataFrame(columns=df.columns)\n",
    "CGBH = set(df.CGBH.values)\n",
    "for v in CGBH:\n",
    "    CGBH_temp = df[df.CGBH == v]\n",
    "    Area = CGBH_temp.Area.values\n",
    "    Area_max = max([value for value in Area])\n",
    "    res = CGBH_temp[CGBH_temp.Area == Area_max].values[0]\n",
    "    dfdata.loc[dfdata.shape[0]] = [*res]\n",
    "dfdata.to_excel(r'E:\\工作文档\\qita\\台账过程\\新建文件夹\\aa.xlsx', index=False)"
   ]
  },
  {
   "cell_type": "code",
   "execution_count": 12,
   "metadata": {},
   "outputs": [
    {
     "name": "stdout",
     "output_type": "stream",
     "text": [
      "2524.6773555045334\n"
     ]
    }
   ],
   "source": [
    "a = 420.7801879457542\n",
    "b = 3366.237731396042\n",
    "xs = 2\n",
    "print(b - a*xs)"
   ]
  },
  {
   "cell_type": "code",
   "execution_count": null,
   "metadata": {},
   "outputs": [],
   "source": [
    "11/21/31/40/50/60/70/80\n",
    "11/21/31/41/51/61/70/80"
   ]
  }
 ],
 "metadata": {
  "kernelspec": {
   "display_name": "Python 3",
   "language": "python",
   "name": "python3"
  },
  "language_info": {
   "codemirror_mode": {
    "name": "ipython",
    "version": 3
   },
   "file_extension": ".py",
   "mimetype": "text/x-python",
   "name": "python",
   "nbconvert_exporter": "python",
   "pygments_lexer": "ipython3",
   "version": "3.11.6"
  }
 },
 "nbformat": 4,
 "nbformat_minor": 2
}
