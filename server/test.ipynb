{
 "cells": [
  {
   "cell_type": "code",
   "execution_count": 5,
   "metadata": {},
   "outputs": [],
   "source": [
    "import json\n",
    "with open(r'E:\\exploitation\\collection\\server\\menuitemURL.json', 'r',encoding='utf-8') as f:\n",
    "    menuitemURL = json.loads(f.read())\n",
    "menuitemURL['xm1'].append({\n",
    "      \"title\": \"表3\",\n",
    "      \"name\": \"表3\",\n",
    "      \"URL\": \"https://www.kdocs.cn/wo/sl/v33U3FPN?app_id=4NhEwy4hboKZRG1Wq9mYU\"\n",
    "})\n",
    "with open(r'E:\\exploitation\\collection\\server\\menuitemURL.json', 'w',encoding='utf-8') as f:\n",
    "    f.write(json.dumps(menuitemURL))\n",
    "    \n"
   ]
  },
  {
   "cell_type": "code",
   "execution_count": null,
   "metadata": {},
   "outputs": [],
   "source": []
  }
 ],
 "metadata": {
  "kernelspec": {
   "display_name": "Python 3",
   "language": "python",
   "name": "python3"
  },
  "language_info": {
   "codemirror_mode": {
    "name": "ipython",
    "version": 3
   },
   "file_extension": ".py",
   "mimetype": "text/x-python",
   "name": "python",
   "nbconvert_exporter": "python",
   "pygments_lexer": "ipython3",
   "version": "3.11.6"
  }
 },
 "nbformat": 4,
 "nbformat_minor": 2
}
